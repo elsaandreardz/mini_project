{
 "cells": [
  {
   "cell_type": "code",
   "execution_count": null,
   "id": "b8246ca4",
   "metadata": {},
   "outputs": [
    {
     "data": {
      "application/vnd.microsoft.datawrangler.viewer.v0+json": {
       "columns": [
        {
         "name": "team",
         "rawType": "object",
         "type": "string"
        },
        {
         "name": "nationality",
         "rawType": "int64",
         "type": "integer"
        }
       ],
       "ref": "b52b961a-3ac6-48b7-bf02-f3c035627e97",
       "rows": [
        [
         "Hoka",
         "2"
        ],
        [
         "Salomon",
         "2"
        ],
        [
         "The North Face",
         "1"
        ]
       ],
       "shape": {
        "columns": 1,
        "rows": 3
       }
      },
      "text/plain": [
       "team\n",
       "Hoka              2\n",
       "Salomon           2\n",
       "The North Face    1\n",
       "Name: nationality, dtype: int64"
      ]
     },
     "execution_count": 4,
     "metadata": {},
     "output_type": "execute_result"
    }
   ],
   "source": [
    "#Clean the UTMB 2017 data\n",
    "import pandas as pd\n",
    "import numpy as np\n",
    "import warnings\n",
    "\n",
    "warnings.filterwarnings(\"ignore\")\n",
    "\n",
    "data = pd.read_csv(\"utmb_2017.csv\")\n",
    "\n",
    "filtered_data = data[data['team'].isin(['Hoka', 'Salomon', 'The North Face'])]\n",
    "data_grouped = filtered_data.groupby('team')['nationality'].count()\n",
    "data_grouped\n"
   ]
  }
 ],
 "metadata": {
  "kernelspec": {
   "display_name": "myenv_project_mini_project",
   "language": "python",
   "name": "python3"
  },
  "language_info": {
   "codemirror_mode": {
    "name": "ipython",
    "version": 3
   },
   "file_extension": ".py",
   "mimetype": "text/x-python",
   "name": "python",
   "nbconvert_exporter": "python",
   "pygments_lexer": "ipython3",
   "version": "3.11.13"
  }
 },
 "nbformat": 4,
 "nbformat_minor": 5
}
