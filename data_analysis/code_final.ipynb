{
 "cells": [
  {
   "cell_type": "code",
   "execution_count": null,
   "id": "b8246ca4",
   "metadata": {},
   "outputs": [],
   "source": [
    "#Clean the UTMB 2017 data\n",
    "import pandas as pd\n",
    "import numpy as np\n",
    "import warnings\n",
    "warnings.filterwarnings(\"ignore\")\n",
    "\n",
    "#Import data\n",
    "data = pd.read_csv(\"utmb_2017.csv\")\n",
    "\n",
    "#Group by team the whole data\n",
    "data_grouped = data.groupby('team')['nationality'].count()\n",
    "data_grouped = data_grouped.reset_index()\n",
    "\n",
    "#Group by team when filtering the data and keeping only Hoka, Salomon and TNF. \n",
    "filtered_data = data[data['team'].isin(['Hoka', 'Salomon', 'The North Face'])]\n",
    "data_grouped_filtered = filtered_data.groupby('team')['nationality'].count()\n",
    "data_grouped_filtered = data_grouped_filtered.reset_index()\n",
    "\n",
    "#Export Results to csv\n",
    "data_grouped.to_csv('Results.csv', index=False)\n",
    "data_grouped_filtered.to_csv('Results Filtered.csv', index=False)\n",
    "\n"
   ]
  },
  {
   "cell_type": "code",
   "execution_count": 10,
   "id": "9b1e3535",
   "metadata": {},
   "outputs": [
    {
     "data": {
      "application/vnd.microsoft.datawrangler.viewer.v0+json": {
       "columns": [
        {
         "name": "team",
         "rawType": "object",
         "type": "string"
        },
        {
         "name": "nationality",
         "rawType": "int64",
         "type": "integer"
        }
       ],
       "ref": "7f8709fa-0d6f-4edf-a444-0893ab9eb0bc",
       "rows": [
        [
         "Hoka",
         "2"
        ],
        [
         "Salomon",
         "2"
        ],
        [
         "The North Face",
         "1"
        ]
       ],
       "shape": {
        "columns": 1,
        "rows": 3
       }
      },
      "text/plain": [
       "team\n",
       "Hoka              2\n",
       "Salomon           2\n",
       "The North Face    1\n",
       "Name: nationality, dtype: int64"
      ]
     },
     "execution_count": 10,
     "metadata": {},
     "output_type": "execute_result"
    }
   ],
   "source": [
    "data_grouped_filtered"
   ]
  }
 ],
 "metadata": {
  "kernelspec": {
   "display_name": "myenv_project_mini_project",
   "language": "python",
   "name": "python3"
  },
  "language_info": {
   "codemirror_mode": {
    "name": "ipython",
    "version": 3
   },
   "file_extension": ".py",
   "mimetype": "text/x-python",
   "name": "python",
   "nbconvert_exporter": "python",
   "pygments_lexer": "ipython3",
   "version": "3.11.13"
  }
 },
 "nbformat": 4,
 "nbformat_minor": 5
}
